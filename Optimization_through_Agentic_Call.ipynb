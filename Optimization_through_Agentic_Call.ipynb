{
  "nbformat": 4,
  "nbformat_minor": 0,
  "metadata": {
    "colab": {
      "provenance": []
    },
    "kernelspec": {
      "name": "python3",
      "display_name": "Python 3"
    },
    "language_info": {
      "name": "python"
    }
  },
  "cells": [
    {
      "cell_type": "code",
      "execution_count": null,
      "metadata": {
        "collapsed": true,
        "id": "YkC1Om2GfMLI"
      },
      "outputs": [],
      "source": [
        "# instal libraries\n",
        "!pip install numpy pandas openai langchain transformers requests pulp"
      ]
    },
    {
      "cell_type": "code",
      "source": [
        "# Importing required libraries\n",
        "import numpy as np  # For numerical operations\n",
        "import pandas as pd  # For data manipulation\n",
        "import openai  # For AI model interactions\n",
        "import requests  # For making API requests\n",
        "import pulp\n",
        "import warnings\n",
        "from transformers.pipelines import pipeline  # For NLP model processing\n",
        "\n",
        "warnings.filterwarnings('ignore')\n",
        "print(\"Environment setup complete! All dependencies are installed and ready to use.\")"
      ],
      "metadata": {
        "colab": {
          "base_uri": "https://localhost:8080/"
        },
        "id": "uPjvKfLHgmSD",
        "outputId": "f5f190fa-1fcc-46dd-b5c0-c6bd7743ddfa"
      },
      "execution_count": null,
      "outputs": [
        {
          "output_type": "stream",
          "name": "stdout",
          "text": [
            "Environment setup complete! All dependencies are installed and ready to use.\n"
          ]
        }
      ]
    },
    {
      "cell_type": "code",
      "source": [
        "# optimization function\n",
        "def optimizatio_executor(pork_price, wheat_price, starch_price):\n",
        "  # Instantiate our problem class\n",
        "  model = pulp.LpProblem(\"Cost minimising blending problem\", pulp.LpMinimize)\n",
        "  # Construct our decision variable lists\n",
        "  sausage_types = ['economy', 'premium']\n",
        "  ingredients = ['pork', 'wheat', 'starch']\n",
        "  ing_weight = pulp.LpVariable.dicts(\"weight kg\",\n",
        "                                     ((i, j) for i in sausage_types for j in ingredients),\n",
        "                                     lowBound=0,\n",
        "                                     cat='Continuous')\n",
        "  # Objective Function\n",
        "  model += (pulp.lpSum([pork_price * ing_weight[(i, 'pork')] + wheat_price * ing_weight[(i, 'wheat')] + starch_price * ing_weight[(i, 'starch')] for i in sausage_types]))\n",
        "\n",
        "  # Constraints\n",
        "  # 350 economy and 500 premium sausages at 0.05 kg\n",
        "  model += pulp.lpSum([ing_weight['economy', j] for j in ingredients]) == 350 * 0.05\n",
        "  model += pulp.lpSum([ing_weight['premium', j] for j in ingredients]) == 500 * 0.05\n",
        "\n",
        "  # Economy has >= 40% pork, premium >= 60% pork\n",
        "  model += ing_weight['economy', 'pork'] >= (\n",
        "      0.4 * pulp.lpSum([ing_weight['economy', j] for j in ingredients]))\n",
        "\n",
        "  model += ing_weight['premium', 'pork'] >= (\n",
        "      0.6 * pulp.lpSum([ing_weight['premium', j] for j in ingredients]))\n",
        "\n",
        "  # Sausages must be <= 25% starch\n",
        "  model += ing_weight['economy', 'starch'] <= (\n",
        "      0.25 * pulp.lpSum([ing_weight['economy', j] for j in ingredients]))\n",
        "\n",
        "  model += ing_weight['premium', 'starch'] <= (\n",
        "      0.25 * pulp.lpSum([ing_weight['premium', j] for j in ingredients]))\n",
        "\n",
        "  # We have at most 30 kg of pork, 20 kg of wheat and 17 kg of starch available\n",
        "  model += pulp.lpSum([ing_weight[i, 'pork'] for i in sausage_types]) <= 30\n",
        "  model += pulp.lpSum([ing_weight[i, 'wheat'] for i in sausage_types]) <= 20\n",
        "  model += pulp.lpSum([ing_weight[i, 'starch'] for i in sausage_types]) <= 17\n",
        "\n",
        "  # We have at least 23 kg of pork to use up\n",
        "  model += pulp.lpSum([ing_weight[i, 'pork'] for i in sausage_types]) >= 23\n",
        "\n",
        "  # Solve our problem\n",
        "  model.solve()\n",
        "\n",
        "  # print output\n",
        "\n",
        "  if (pulp.LpStatus[model.status] == \"Optimal\"):\n",
        "\n",
        "    print(\"\\n\\nGreat News! With the input a definite solution has been found. The output are as below\\n\")\n",
        "\n",
        "    for var in ing_weight:\n",
        "      var_value = ing_weight[var].varValue\n",
        "      print (\"The weight of {0} in {1} sausages is {2} kg\".format(var[1], var[0], var_value))\n",
        "\n",
        "    total_cost = pulp.value(model.objective)\n",
        "\n",
        "    print(\"The total cost is ${} for 350 economy sausages and 500 premium sausages\".format(round(total_cost, 2)))\n",
        "\n",
        "  else:\n",
        "    print(\"I am sorry, but with your input combinations, no feasible solution is found. Would you like to try different combination?\")\n"
      ],
      "metadata": {
        "id": "0rKi0PCogmOZ"
      },
      "execution_count": null,
      "outputs": []
    },
    {
      "cell_type": "code",
      "source": [
        "# optimizatio_executor(4.1, 2.2, 1.5)"
      ],
      "metadata": {
        "id": "a_BWjPy0gmLF"
      },
      "execution_count": null,
      "outputs": []
    },
    {
      "cell_type": "markdown",
      "source": [
        "## Create Chat Agent to call the optimization"
      ],
      "metadata": {
        "id": "X9uJB6gEOkEv"
      }
    },
    {
      "cell_type": "code",
      "source": [
        "# Defining a function to process user input and return an appropriate response\n",
        "def response_call(user_input):\n",
        "  responses = {\n",
        "      \"hello\": \"Hi there! How can I assist you?\",\n",
        "      \"rerun\": optimization_call,\n",
        "      \"optimize\" : \"Sure, I can\"\n",
        "  }\n",
        "  # Returning a response based on user input\n",
        "  if(user_input.lower() == \"rerun\"):\n",
        "    return responses.get(user_input)()\n",
        "  else:\n",
        "    return responses.get(user_input, \"I'm not sure about that, but I'm learning!\")\n",
        "response_call(\"hello\")\n",
        "\n",
        "# optimization input call\n",
        "def optimization_call():\n",
        "  print(\"I can help with that. Can you please provide input prices?\\n\")\n",
        "  pork_price = float(input(\"Pork price: \"))\n",
        "  wheat_price = float(input(\"Wheat price: \"))\n",
        "  starch_price = float(input(\"Starch price: \"))\n",
        "  optimizatio_executor(pork_price, wheat_price, starch_price)\n",
        "  return \"\\n\\nOptimization complete\""
      ],
      "metadata": {
        "id": "SBn0uS0NgmHp"
      },
      "execution_count": null,
      "outputs": []
    },
    {
      "cell_type": "code",
      "source": [
        "# Defining a function to simulate a chatbot interaction\n",
        "def chat():\n",
        "    print(\"Chatbot: Hello! Type 'exit' to end the chat.\")\n",
        "    while True:\n",
        "        user_input = input(\"You: \")  # Taking user input\n",
        "        if user_input.lower() == \"exit\":  # Checking if the user wants to exit\n",
        "            print(\"Chatbot: Goodbye!\")\n",
        "            break\n",
        "        print(\"Chatbot:\", response_call(user_input))  # Processing and returning response\n",
        "\n",
        "# Example: Running the chatbot interaction\n",
        "chat()  # Uncomment to test"
      ],
      "metadata": {
        "colab": {
          "base_uri": "https://localhost:8080/"
        },
        "id": "Xnn7KYAqgmEh",
        "outputId": "e5aa179c-f257-495b-ec28-9db15ff22738"
      },
      "execution_count": null,
      "outputs": [
        {
          "output_type": "stream",
          "name": "stdout",
          "text": [
            "Chatbot: Hello! Type 'exit' to end the chat.\n",
            "You: hello\n",
            "Chatbot: Hi there! How can I assist you?\n",
            "You: optimize\n",
            "Chatbot: Sure, I can\n",
            "You: rerun\n",
            "I can help with that. Can you please provide input prices?\n",
            "\n",
            "Pork price: 6.5\n",
            "Wheat price: 7.8\n",
            "Starch price: 9.7\n",
            "\n",
            "\n",
            "Great News! With the input a definite solution has been found. The output are as below\n",
            "\n",
            "The weight of pork in economy sausages is 7.0 kg\n",
            "The weight of wheat in economy sausages is 10.5 kg\n",
            "The weight of starch in economy sausages is 0.0 kg\n",
            "The weight of pork in premium sausages is 23.0 kg\n",
            "The weight of wheat in premium sausages is 2.0 kg\n",
            "The weight of starch in premium sausages is 0.0 kg\n",
            "The total cost is $292.5 for 350 economy sausages and 500 premium sausages\n",
            "Chatbot: \n",
            "\n",
            "Optimization complete\n",
            "You: exit\n",
            "Chatbot: Goodbye!\n"
          ]
        }
      ]
    },
    {
      "cell_type": "code",
      "source": [],
      "metadata": {
        "id": "GwFkkAZfglz_"
      },
      "execution_count": null,
      "outputs": []
    },
    {
      "cell_type": "markdown",
      "source": [
        "# **Optimization Problem**\n",
        "\n",
        "\n",
        "---\n",
        "\n",
        "\n",
        "We're going to make some sausages!\n",
        "\n",
        "We have the following ingredients available to us:\n",
        "\n",
        "Ingredient\tCost (€/kg)\tAvailability (kg)\n",
        "Pork\t4.32\t30\n",
        "Wheat\t2.46\t20\n",
        "Starch\t1.86\t17\n",
        "We'll make 2 types of sausage:\n",
        "\n",
        "Economy (>40% Pork)\n",
        "Premium (>60% Pork)\n",
        "One sausage is 50 grams (0.05 kg)\n",
        "\n",
        "According to government regulations, the most starch we can use in our sausages is 25%\n",
        "\n",
        "We have a contract with a butcher, and have already purchased 23 kg pork, that will go bad if it's not used.\n",
        "\n",
        "We have a demand for 350 economy sausages and 500 premium sausages.\n",
        "\n",
        "We need to figure out how to most cost effectively blend our sausages.\n",
        "\n",
        "Let's model our problem\n",
        "\n",
        "pe = Pork in the economy sausages (kg)\n",
        "we = Wheat in the economy sausages (kg)\n",
        "se = Starch in the economy sausages (kg)\n",
        "pp = Pork in the premium sausages (kg)\n",
        "wp = Wheat in the premium sausages (kg)\n",
        "sp = Starch in the premium sausages (kg)\n",
        "\n",
        "We want to minimise costs such that:\n",
        "\n",
        "Cost = 0.72(pe + pp) + 0.41(we + wp) + 0.31(se + sp)\n",
        "\n",
        "With the following constraints:\n",
        "pe + we + se = 350 * 0.05\n",
        "pp + wp + sp = 500 * 0.05\n",
        "pe ≥ 0.4(pe + we + se)\n",
        "pp ≥ 0.6(pp + wp + sp)\n",
        "se ≤ 0.25(pe + we + se)\n",
        "sp ≤ 0.25(pp + wp + sp)\n",
        "pe + pp ≤ 30\n",
        "we + wp ≤ 20\n",
        "se + sp ≤ 17\n",
        "pe + pp ≥ 23"
      ],
      "metadata": {
        "id": "T0b8gBO8fr-g"
      }
    },
    {
      "cell_type": "code",
      "source": [],
      "metadata": {
        "id": "Ljz73vjEgcv3"
      },
      "execution_count": null,
      "outputs": []
    }
  ]
}